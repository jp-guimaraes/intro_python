{
 "cells": [
  {
   "cell_type": "markdown",
   "metadata": {},
   "source": [
    "# Aula 02: Controle de fluxo 1"
   ]
  },
  {
   "cell_type": "markdown",
   "metadata": {},
   "source": [
    "## Introdução\n",
    "\n",
    "Tendo entendido o conceito de variáveis o próximo passo é dominar o controle de fluxo. Mas antes de saber controlar o fluxo é preciso entender o tal fluxo.\n",
    "\n",
    "### Fluxo normal de um algoritmo\n",
    "\n",
    "Num algoritmos, as instruções são executadas de cima para baixo, em ordem:\n",
    "![teste](https://raw.githubusercontent.com/jp-guimaraes/intro_python/master/assets/algo.png)\n",
    "\n",
    "Dessa forma, **normalmente**, uma instrução é executada após a outra, de cima para baixo. Para calcular a média entre duas notas, por exemplo, fazemos:\n"
   ]
  },
  {
   "cell_type": "code",
   "execution_count": 1,
   "metadata": {},
   "outputs": [],
   "source": [
    "nota1 = 6"
   ]
  },
  {
   "cell_type": "code",
   "execution_count": 2,
   "metadata": {},
   "outputs": [],
   "source": [
    "nota2 = 4"
   ]
  },
  {
   "cell_type": "code",
   "execution_count": 3,
   "metadata": {},
   "outputs": [],
   "source": [
    "soma = nota1 + nota2"
   ]
  },
  {
   "cell_type": "code",
   "execution_count": 4,
   "metadata": {},
   "outputs": [],
   "source": [
    "media = soma/2\n"
   ]
  },
  {
   "cell_type": "markdown",
   "metadata": {},
   "source": [
    "As instruções acima devem ser executadas em ordem, de cima pra baixo, caso contrário você tera problemas/incosistências. "
   ]
  },
  {
   "cell_type": "markdown",
   "metadata": {},
   "source": [
    "### Multiplas instruções numa mesma linha\n",
    "\n",
    "Muitas vezes é importante por questões visuais/organização ter várias instruções numa mesma linha.\n",
    "Por exemplo, é possível suprimir a variável soma e fazer a divisão de forma direta, veja:"
   ]
  },
  {
   "cell_type": "code",
   "execution_count": 5,
   "metadata": {},
   "outputs": [],
   "source": [
    "media = (nota1 + nota2)/2"
   ]
  },
  {
   "cell_type": "code",
   "execution_count": 6,
   "metadata": {},
   "outputs": [
    {
     "data": {
      "text/plain": [
       "5.0"
      ]
     },
     "execution_count": 6,
     "metadata": {},
     "output_type": "execute_result"
    }
   ],
   "source": [
    "media"
   ]
  },
  {
   "cell_type": "markdown",
   "metadata": {},
   "source": [
    "Aqui vale uma pequena observação. As operações de multiplicação/divisão sempre tem prioridades sobre as operações de subtração/adição. Dessa forma, é fundamental o uso dos parênteses para forçar que a adição seja feita antes da divisão. Compare:"
   ]
  },
  {
   "cell_type": "code",
   "execution_count": 7,
   "metadata": {},
   "outputs": [],
   "source": [
    "media_errada = nota1 + nota2/2"
   ]
  },
  {
   "cell_type": "code",
   "execution_count": 8,
   "metadata": {},
   "outputs": [
    {
     "data": {
      "text/plain": [
       "8.0"
      ]
     },
     "execution_count": 8,
     "metadata": {},
     "output_type": "execute_result"
    }
   ],
   "source": [
    "media_errada"
   ]
  },
  {
   "cell_type": "markdown",
   "metadata": {},
   "source": [
    "Quando fazemos:\n",
    "```python\n",
    "nota1+nota2/2\n",
    "```\n",
    " e a divisão é prioritária sobre a adição. A variável nota2 é dividido por 2 e depois somado ao valor armazenado na variável nota1. "
   ]
  },
  {
   "cell_type": "markdown",
   "metadata": {},
   "source": [
    "Entendeu o tal fluxo? Agora vamos aprender a controlá-lo. A primeira ferramenta para isso são as estruturas de decisão. "
   ]
  },
  {
   "cell_type": "markdown",
   "metadata": {},
   "source": [
    "## Estruturas de decisão"
   ]
  },
  {
   "cell_type": "markdown",
   "metadata": {},
   "source": [
    "### Introdução\n",
    "\n",
    "As estruturas de decisão servem para criar ramificações no fluxo original de dados. Por exemplo, **após** calcular a média baseado nas duas notas dadas, devemos imprimir \"Aprovado\" ou \"Reprovado\" dependendo da média adquirida. **Se** a média for *maior* do que 6, vamos imprimir \"Aprovado!\". **Senão**, vamos imprimir \"Reprovado\"."
   ]
  },
  {
   "cell_type": "markdown",
   "metadata": {},
   "source": [
    "### Comandos importantes\n",
    "Para poder implementar problemas como o descrito acima, tempos que introduzir alguns comandos em Python. O primeiro deles é para imprimir na tela. Para ver o valor armazenado por uma variável, basta escrever o nome dela e executar a célula. Entretando, algumas vezes é mais conveniente usar a função **print**. O uso é o seguinte: \n",
    "\n",
    "```python\n",
    "print(NOME_DA_VARIAVEL)\n",
    "```\n",
    "\n",
    "Exemplo:"
   ]
  },
  {
   "cell_type": "code",
   "execution_count": 9,
   "metadata": {},
   "outputs": [
    {
     "name": "stdout",
     "output_type": "stream",
     "text": [
      "6\n"
     ]
    }
   ],
   "source": [
    "print(nota1)"
   ]
  },
  {
   "cell_type": "markdown",
   "metadata": {},
   "source": [
    "### Desvio no fluxo\n",
    "\n",
    "\n",
    "![teste](https://raw.githubusercontent.com/jp-guimaraes/intro_python/master/assets/if.png)\n",
    "Observe a figura acima. A ordem de execução das instruções é a seguinte: A instrução 1 é executada, seguida pela instrução 2. Após isso, ou a instrução A é executada ou a instrução B é executada, dependendo da condição encontrada. Por exemplo, se for verdadeiro, a instrução A é executada, caso seja falso, a instrução B é executada. Após o desvio no fluxo, as instruções posteriores como a instrução 3 são executadas normalmente, seguindo o fluxo normal do algoritmo. \n",
    "\n",
    "\n",
    "Para fazer o tal desvio no fluxo em Python, vamos usar o comando **if** que é justamente a palavra em inglês para dizer *se*. O uso é o seguinte:\n",
    "\n",
    "```python\n",
    "if(VARIAVEL_BOOLEANA):\n",
    "    TRECHO DE CÓDIGO 1\n",
    "else:\n",
    "    TRECHO DE CÓDIGO 2\n",
    "```\n",
    "\n",
    "Dessa forma, se a variável booleana for verdadeira, ou seja <span style=\"color:green\">**True**</span>, o trecho de código 1 é executado. Caso contrário, ou seja, se a variável booleana que está sendo testada for falsa, <span style=\"color:green\">**False**</span>, o trecho de código 2 é que é executado. \n",
    "\n"
   ]
  },
  {
   "cell_type": "code",
   "execution_count": 10,
   "metadata": {},
   "outputs": [
    {
     "name": "stdout",
     "output_type": "stream",
     "text": [
      "eita!\n"
     ]
    }
   ],
   "source": [
    "a = True\n",
    "if(a):\n",
    "    print(\"eita!\")\n",
    "else:\n",
    "    print(\"bingo!\")\n",
    "        "
   ]
  },
  {
   "cell_type": "markdown",
   "metadata": {},
   "source": [
    "Experimente agora mudar o valor da variável da célula acima de <span style=\"color:green\">**True**</span> para <span style=\"color:green\">**False**</span> e vice-versa. Depois execute a célula e observe qual trecho de código é executado.\n",
    "\n",
    "\n",
    "Ou seja, dependendo do valor da variável `a` ou \"eita!\" ou \"bingo!\" é impresso. É importante notar que, da forma como foi escrito o código acima, nunca os dois trechos de código serão executados ao mesmo tempo. \n",
    "\n",
    "Voltando ao problema inicial, queremos imprimir \"Aprovado\" ou \"Reprovado\" dependendo da média obtida. Veja:"
   ]
  },
  {
   "cell_type": "code",
   "execution_count": 11,
   "metadata": {},
   "outputs": [],
   "source": [
    "nota1 = 8"
   ]
  },
  {
   "cell_type": "code",
   "execution_count": 12,
   "metadata": {},
   "outputs": [],
   "source": [
    "nota2 = 4"
   ]
  },
  {
   "cell_type": "code",
   "execution_count": 13,
   "metadata": {},
   "outputs": [],
   "source": [
    "media = (nota1 + nota2)/2"
   ]
  },
  {
   "cell_type": "markdown",
   "metadata": {},
   "source": [
    "Aqui, fazemos a pergunta: Média é maior ou igual do que 6? Se você não lembra como fazer isso, volte ao fim da aula passada para conferir o procedimento."
   ]
  },
  {
   "cell_type": "code",
   "execution_count": 14,
   "metadata": {},
   "outputs": [],
   "source": [
    "teste = (media >= 6 )"
   ]
  },
  {
   "cell_type": "code",
   "execution_count": 15,
   "metadata": {},
   "outputs": [
    {
     "name": "stdout",
     "output_type": "stream",
     "text": [
      "O aluno está \n",
      "aprovado\n",
      "!!!\n"
     ]
    }
   ],
   "source": [
    "print(\"O aluno está \")\n",
    "if(teste):\n",
    "    print(\"aprovado\")\n",
    "else:\n",
    "    print(\"reprovado\")\n",
    "print(\"!!!\")\n"
   ]
  },
  {
   "cell_type": "markdown",
   "metadata": {},
   "source": [
    "Em geral, não se usa a variável teste para armazenar a pergunta. Ela é introduzida de forma direta dentro do <span style=\"color:green\">**if**</span>, veja:"
   ]
  },
  {
   "cell_type": "code",
   "execution_count": 16,
   "metadata": {},
   "outputs": [
    {
     "name": "stdout",
     "output_type": "stream",
     "text": [
      "O aluno está \n",
      "aprovado\n",
      "!!!\n"
     ]
    }
   ],
   "source": [
    "print(\"O aluno está \")\n",
    "if(media>=6):\n",
    "    print(\"aprovado\")\n",
    "else:\n",
    "    print(\"reprovado\")\n",
    "print(\"!!!\")"
   ]
  },
  {
   "cell_type": "markdown",
   "metadata": {},
   "source": [
    "Repare que tanto a instrução antes do if 'print(\"o aluno está: \")', como a instrução 'print(\"!!!\")' que está depois do <span style=\"color:green\">**if**</span>/<span style=\"color:green\">**else**</span> são executadas de forma independentes."
   ]
  },
  {
   "cell_type": "code",
   "execution_count": null,
   "metadata": {},
   "outputs": [],
   "source": []
  },
  {
   "cell_type": "code",
   "execution_count": null,
   "metadata": {},
   "outputs": [],
   "source": []
  }
 ],
 "metadata": {
  "kernelspec": {
   "display_name": "Python 3",
   "language": "python",
   "name": "python3"
  },
  "language_info": {
   "codemirror_mode": {
    "name": "ipython",
    "version": 3
   },
   "file_extension": ".py",
   "mimetype": "text/x-python",
   "name": "python",
   "nbconvert_exporter": "python",
   "pygments_lexer": "ipython3",
   "version": "3.6.5"
  }
 },
 "nbformat": 4,
 "nbformat_minor": 2
}
