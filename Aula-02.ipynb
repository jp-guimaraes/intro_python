{
 "cells": [
  {
   "cell_type": "markdown",
   "metadata": {},
   "source": [
    "# Aula 02: Controle de fluxo 1"
   ]
  },
  {
   "cell_type": "markdown",
   "metadata": {},
   "source": [
    "## Introdução\n",
    "\n",
    "Tendo entendido o conceito de variáveis o próximo passo é dominar o controle de fluxo. Mas antes de saber controlar o fluxo é preciso entender o tal fluxo.\n",
    "\n",
    "### Fluxo normal de um algoritmo\n",
    "\n",
    "Num algoritmos, as instruções são executadas de cima para baixo, em ordem:\n",
    "![teste](https://raw.githubusercontent.com/jp-guimaraes/intro_python/master/assets/algo.png)\n",
    "\n",
    "Dessa forma, **normalmente**, uma instrução é executada após a outra, de cima para baixo. Para calcular a média entre dois números, por exemplo, fazemos:\n"
   ]
  },
  {
   "cell_type": "code",
   "execution_count": 1,
   "metadata": {},
   "outputs": [],
   "source": [
    "n1 = 10"
   ]
  },
  {
   "cell_type": "code",
   "execution_count": 2,
   "metadata": {},
   "outputs": [],
   "source": [
    "n2 = 20"
   ]
  },
  {
   "cell_type": "code",
   "execution_count": 10,
   "metadata": {},
   "outputs": [],
   "source": [
    "soma = n1 + n2"
   ]
  },
  {
   "cell_type": "code",
   "execution_count": 11,
   "metadata": {},
   "outputs": [],
   "source": [
    "media = soma/2\n"
   ]
  },
  {
   "cell_type": "markdown",
   "metadata": {},
   "source": [
    "As instruções acima devem ser executadas em ordem, de cima pra baixo, caso contrário você tera problemas/incosistências. "
   ]
  },
  {
   "cell_type": "markdown",
   "metadata": {},
   "source": [
    "### Multiplas instruções numa mesma linha\n",
    "\n",
    "Muitas vezes é importante por questões visuais/organização ter várias instruções numa mesma linha.\n",
    "Por exemplo, é possível suprimir a variável soma e fazer a divisão de forma direta, veja:"
   ]
  },
  {
   "cell_type": "code",
   "execution_count": 3,
   "metadata": {},
   "outputs": [],
   "source": [
    "media = (n1+n2)/2"
   ]
  },
  {
   "cell_type": "code",
   "execution_count": 4,
   "metadata": {},
   "outputs": [
    {
     "data": {
      "text/plain": [
       "15.0"
      ]
     },
     "execution_count": 4,
     "metadata": {},
     "output_type": "execute_result"
    }
   ],
   "source": [
    "media"
   ]
  },
  {
   "cell_type": "markdown",
   "metadata": {},
   "source": [
    "Aqui vale uma pequena observação. As operações de multiplicação/divisão sempre tem prioridades sobre as operações de subtração/adição. Dessa forma, é fundamental o uso dos parênteses para forçar que a adição seja feita antes da divisão. Compare:"
   ]
  },
  {
   "cell_type": "code",
   "execution_count": 8,
   "metadata": {},
   "outputs": [],
   "source": [
    "media_errada = n1+n2/2"
   ]
  },
  {
   "cell_type": "code",
   "execution_count": 9,
   "metadata": {},
   "outputs": [
    {
     "data": {
      "text/plain": [
       "20.0"
      ]
     },
     "execution_count": 9,
     "metadata": {},
     "output_type": "execute_result"
    }
   ],
   "source": [
    "media_errada"
   ]
  },
  {
   "cell_type": "markdown",
   "metadata": {},
   "source": [
    "Quando fazemos n1+n2/2 e a divisão é prioritária sobre a adição, n2 é dividido por 2 e depois somado a n1. "
   ]
  },
  {
   "cell_type": "markdown",
   "metadata": {},
   "source": [
    "Entendeu o tal fluxo? Agora vamos aprender a controlá-lo. A primeira ferramenta para isso são as estruturas de decisão."
   ]
  },
  {
   "cell_type": "markdown",
   "metadata": {},
   "source": [
    "## Estruturas de decisão"
   ]
  },
  {
   "cell_type": "code",
   "execution_count": null,
   "metadata": {},
   "outputs": [],
   "source": []
  }
 ],
 "metadata": {
  "kernelspec": {
   "display_name": "Python 3",
   "language": "python",
   "name": "python3"
  },
  "language_info": {
   "codemirror_mode": {
    "name": "ipython",
    "version": 3
   },
   "file_extension": ".py",
   "mimetype": "text/x-python",
   "name": "python",
   "nbconvert_exporter": "python",
   "pygments_lexer": "ipython3",
   "version": "3.6.5"
  }
 },
 "nbformat": 4,
 "nbformat_minor": 2
}
