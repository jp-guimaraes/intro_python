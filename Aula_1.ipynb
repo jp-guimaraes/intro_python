{
  "nbformat": 4,
  "nbformat_minor": 0,
  "metadata": {
    "colab": {
      "name": "Untitled0.ipynb",
      "provenance": [],
      "collapsed_sections": []
    },
    "kernelspec": {
      "name": "python3",
      "display_name": "Python 3"
    }
  },
  "cells": [
    {
      "cell_type": "markdown",
      "metadata": {
        "id": "6Tfl-pei4DKg",
        "colab_type": "text"
      },
      "source": [
        "A primeira coisa que temos que entender são as variáveis. Variáveis são entidades que o computador usa para armazenar informação. Elas tem três atributos principais: Um nome, um tipo e um valor. Por exemplo:\n",
        "\n"
      ]
    },
    {
      "cell_type": "code",
      "metadata": {
        "id": "ZOmGSTdb4YuZ",
        "colab_type": "code",
        "colab": {}
      },
      "source": [
        "x = 2;\n"
      ],
      "execution_count": 0,
      "outputs": []
    },
    {
      "cell_type": "markdown",
      "metadata": {
        "id": "S2oEpGQZ4Az2",
        "colab_type": "text"
      },
      "source": [
        "Quando damos essa instrução ao computador estamos indiretamente dizendo: \"Computador, reserve um espaço na memória que eu quero chamar de 'x'. Vou usar ele para guardar valores numéricos. A princípio ele vai guardar o número 2.\""
      ]
    },
    {
      "cell_type": "code",
      "metadata": {
        "id": "8YcUs8SH4_2f",
        "colab_type": "code",
        "colab": {
          "base_uri": "https://localhost:8080/",
          "height": 34
        },
        "outputId": "99183100-6931-442b-a10f-21cb64e5f9c9"
      },
      "source": [
        "x"
      ],
      "execution_count": 4,
      "outputs": [
        {
          "output_type": "execute_result",
          "data": {
            "text/plain": [
              "2"
            ]
          },
          "metadata": {
            "tags": []
          },
          "execution_count": 4
        }
      ]
    },
    {
      "cell_type": "markdown",
      "metadata": {
        "id": "nO9T8scn5teZ",
        "colab_type": "text"
      },
      "source": [
        "Sempre que eu me referir a x, o computador vai na sua memória, no endereço que separou para o x, e lê esse resultado.\n",
        "Mas, como o próprio nome diz, trata-se de um valor variável. Para mudar o valor que está armazenado nessa memória basta fazer uma nova operação de atribuição. Veja:"
      ]
    },
    {
      "cell_type": "code",
      "metadata": {
        "id": "klKEr1S15vGQ",
        "colab_type": "code",
        "colab": {}
      },
      "source": [
        "x = 47\n"
      ],
      "execution_count": 0,
      "outputs": []
    },
    {
      "cell_type": "code",
      "metadata": {
        "id": "fbSdVgvU5xaS",
        "colab_type": "code",
        "colab": {}
      },
      "source": [
        "Agora a posição de memória referenciada pelo nome 'x' guarda o número 47. "
      ],
      "execution_count": 0,
      "outputs": []
    },
    {
      "cell_type": "markdown",
      "metadata": {
        "id": "Z3dFGC_yDamr",
        "colab_type": "text"
      },
      "source": [
        "Em python, as variáveis do tipo numéricas podem ser tanto inteiras quanto fracionárias. Ao contrário de outras linguagens, não há uma diferenciação na declaração dela. Então, se quisermos que a variável 'x' passe a representar o preço do Kg de feijão, que custa em torno de R$ 11.20 (onze reais e vinte centavos), por exemplo."
      ]
    },
    {
      "cell_type": "code",
      "metadata": {
        "id": "6ZNnQwpiE-58",
        "colab_type": "code",
        "colab": {}
      },
      "source": [
        "x = 11.20\n"
      ],
      "execution_count": 0,
      "outputs": []
    },
    {
      "cell_type": "code",
      "metadata": {
        "id": "TM6Hw3rOFEfG",
        "colab_type": "code",
        "colab": {
          "base_uri": "https://localhost:8080/",
          "height": 34
        },
        "outputId": "d8189f86-1d7c-4a3f-be79-558f67e743fd"
      },
      "source": [
        "x"
      ],
      "execution_count": 4,
      "outputs": [
        {
          "output_type": "execute_result",
          "data": {
            "text/plain": [
              "11.2"
            ]
          },
          "metadata": {
            "tags": []
          },
          "execution_count": 4
        }
      ]
    },
    {
      "cell_type": "markdown",
      "metadata": {
        "id": "-oGYSaIQQ0G6",
        "colab_type": "text"
      },
      "source": [
        "Você pode notar que para inicializar ou atribuir valores a uma variável numérica, o símbolo '=' foi utilizado. Ele é chamado de operador de atribuição. Existem outros tipos de operadores. Para variáveis numéricas destacam-se os operadores aritméticos. Veja alguns exemplos com os operadores soma (+), subtração(-), multiplicação (*) e divisão (/):\n"
      ]
    },
    {
      "cell_type": "code",
      "metadata": {
        "id": "b_WhKk5ORLHW",
        "colab_type": "code",
        "colab": {
          "base_uri": "https://localhost:8080/",
          "height": 34
        },
        "outputId": "6e07895b-2632-48af-910d-a7c668d2c248"
      },
      "source": [
        "x+1"
      ],
      "execution_count": 16,
      "outputs": [
        {
          "output_type": "execute_result",
          "data": {
            "text/plain": [
              "48"
            ]
          },
          "metadata": {
            "tags": []
          },
          "execution_count": 16
        }
      ]
    },
    {
      "cell_type": "code",
      "metadata": {
        "id": "48uVgPtRRM5M",
        "colab_type": "code",
        "colab": {
          "base_uri": "https://localhost:8080/",
          "height": 34
        },
        "outputId": "3f351c54-a6d0-4d15-bb29-3565bcfe017c"
      },
      "source": [
        "x-13.4"
      ],
      "execution_count": 17,
      "outputs": [
        {
          "output_type": "execute_result",
          "data": {
            "text/plain": [
              "33.6"
            ]
          },
          "metadata": {
            "tags": []
          },
          "execution_count": 17
        }
      ]
    },
    {
      "cell_type": "code",
      "metadata": {
        "id": "jQMAONQyRZ0E",
        "colab_type": "code",
        "colab": {
          "base_uri": "https://localhost:8080/",
          "height": 34
        },
        "outputId": "fc35415b-dfad-4709-8bf2-7a5429878484"
      },
      "source": [
        "x*3.14"
      ],
      "execution_count": 18,
      "outputs": [
        {
          "output_type": "execute_result",
          "data": {
            "text/plain": [
              "147.58"
            ]
          },
          "metadata": {
            "tags": []
          },
          "execution_count": 18
        }
      ]
    },
    {
      "cell_type": "code",
      "metadata": {
        "id": "lu3hZj74RdDj",
        "colab_type": "code",
        "colab": {
          "base_uri": "https://localhost:8080/",
          "height": 34
        },
        "outputId": "741f1c69-711c-409e-b9b1-a2c96c97e0fd"
      },
      "source": [
        "x/(8)"
      ],
      "execution_count": 19,
      "outputs": [
        {
          "output_type": "execute_result",
          "data": {
            "text/plain": [
              "5.875"
            ]
          },
          "metadata": {
            "tags": []
          },
          "execution_count": 19
        }
      ]
    },
    {
      "cell_type": "markdown",
      "metadata": {
        "id": "hsiEeLxCFTIE",
        "colab_type": "text"
      },
      "source": [
        "Outro tipo de variável muito comum são as strings. Stings são cadeias de caracteres utilizadas para armazenar palavras. Em Python, para atribuir uma string a uma variável basta usar as áspas. Exemplo:\n"
      ]
    },
    {
      "cell_type": "code",
      "metadata": {
        "id": "Vz8mrRJwFsTC",
        "colab_type": "code",
        "colab": {}
      },
      "source": [
        "x = \"bola\"\n"
      ],
      "execution_count": 0,
      "outputs": []
    },
    {
      "cell_type": "code",
      "metadata": {
        "id": "IUAu11INGE3v",
        "colab_type": "code",
        "colab": {}
      },
      "source": [
        "Como pode-se notar, não há nenhuma diferenciação da atribuição numérica a strings em python. 'x' agora é a string 'bola'! "
      ],
      "execution_count": 0,
      "outputs": []
    },
    {
      "cell_type": "code",
      "metadata": {
        "id": "JzpLLESXGLYv",
        "colab_type": "code",
        "colab": {
          "base_uri": "https://localhost:8080/",
          "height": 34
        },
        "outputId": "e966f867-5b2d-4da5-e86e-752332a8c962"
      },
      "source": [
        "x"
      ],
      "execution_count": 7,
      "outputs": [
        {
          "output_type": "execute_result",
          "data": {
            "text/plain": [
              "'bola'"
            ]
          },
          "metadata": {
            "tags": []
          },
          "execution_count": 7
        }
      ]
    },
    {
      "cell_type": "code",
      "metadata": {
        "id": "9_stDScCGMAg",
        "colab_type": "code",
        "colab": {}
      },
      "source": [
        "A forma de leitura é a mesma: \"Computador, reserve um espaço de memória que eu quero chamar de 'x' e guarde lá dentro a palavra 'bola' \". A informação anterior guardada na memória, no caso o valor 11.2 é descartada."
      ],
      "execution_count": 0,
      "outputs": []
    },
    {
      "cell_type": "markdown",
      "metadata": {
        "id": "cIJO8oijHATv",
        "colab_type": "text"
      },
      "source": [
        "As variáveis booleanas também estão presentes em Python. Em geral, modela-se informações do mundo real que expressam antagonismo por uma variável binária no computador, por exemplo: cheio e vazio, verdadeiro e falso, 5V e 0V, pertence ou não pertence, contém e não contém, etc. Em python usa-se o clássico \"Verdadeiro e Falso\" mas em inglês, ou seja, True e False. Assim, é possível fazer as seguintes atribuições: "
      ]
    },
    {
      "cell_type": "code",
      "metadata": {
        "id": "2uXgFaB_H4vw",
        "colab_type": "code",
        "colab": {}
      },
      "source": [
        "x = True"
      ],
      "execution_count": 0,
      "outputs": []
    },
    {
      "cell_type": "code",
      "metadata": {
        "id": "eHzqVg68H6nX",
        "colab_type": "code",
        "colab": {}
      },
      "source": [
        "ou então\n"
      ],
      "execution_count": 0,
      "outputs": []
    },
    {
      "cell_type": "code",
      "metadata": {
        "id": "ao0DO-CFH8zl",
        "colab_type": "code",
        "colab": {}
      },
      "source": [
        "y = False"
      ],
      "execution_count": 0,
      "outputs": []
    },
    {
      "cell_type": "markdown",
      "metadata": {
        "id": "a13qWw_1IK5A",
        "colab_type": "text"
      },
      "source": [
        "Operações lógicas podem ser feitas normalmente sob as variávéis booleanas:"
      ]
    },
    {
      "cell_type": "code",
      "metadata": {
        "id": "l-CbvBTrIQGC",
        "colab_type": "code",
        "colab": {}
      },
      "source": [
        ""
      ],
      "execution_count": 0,
      "outputs": []
    }
  ]
}