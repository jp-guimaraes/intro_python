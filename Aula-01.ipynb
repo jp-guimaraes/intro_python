{
 "cells": [
  {
   "cell_type": "markdown",
   "metadata": {},
   "source": [
    "# Aula 1: Introdução a variáveis usando Python"
   ]
  },
  {
   "cell_type": "markdown",
   "metadata": {
    "colab_type": "text",
    "id": "6Tfl-pei4DKg"
   },
   "source": [
    "## As variáveis\n",
    "\n",
    "A primeira coisa que temos que entender são as variáveis. Variáveis são entidades que o computador usa para armazenar informação. Elas tem três atributos principais: Um nome, um tipo e um valor. Veja: \n",
    "\n"
   ]
  },
  {
   "cell_type": "markdown",
   "metadata": {},
   "source": [
    "\n",
    "![teste](https://raw.githubusercontent.com/jp-guimaraes/intro_python/master/assets/var.png)\n",
    "\n"
   ]
  },
  {
   "cell_type": "markdown",
   "metadata": {},
   "source": [
    "Por exemplo, podemos fazer:"
   ]
  },
  {
   "cell_type": "code",
   "execution_count": 1,
   "metadata": {
    "colab": {},
    "colab_type": "code",
    "id": "ZOmGSTdb4YuZ"
   },
   "outputs": [],
   "source": [
    "x = 47;\n"
   ]
  },
  {
   "cell_type": "markdown",
   "metadata": {
    "colab_type": "text",
    "id": "S2oEpGQZ4Az2"
   },
   "source": [
    "Quando damos essa instrução ao computador estamos indiretamente dizendo: \"Computador, reserve um espaço na memória que eu quero chamar de 'x'. Vou usar ele para guardar valores numéricos. A princípio ele vai guardar o número 47.\" ![teste](https://raw.githubusercontent.com/jp-guimaraes/intro_python/master/assets/var_x.png)\n",
    "\n",
    "### Exibindo o conteúdo de uma variável armazenada na memória\n",
    "Para exibir o conteúdo da variável 'x' na tela basta escrever x numa célula e executá-la. O atalho de teclado é shift + enter"
   ]
  },
  {
   "cell_type": "code",
   "execution_count": 2,
   "metadata": {
    "colab": {
     "base_uri": "https://localhost:8080/",
     "height": 34
    },
    "colab_type": "code",
    "id": "8YcUs8SH4_2f",
    "outputId": "99183100-6931-442b-a10f-21cb64e5f9c9"
   },
   "outputs": [
    {
     "data": {
      "text/plain": [
       "47"
      ]
     },
     "execution_count": 2,
     "metadata": {},
     "output_type": "execute_result"
    }
   ],
   "source": [
    "x"
   ]
  },
  {
   "cell_type": "markdown",
   "metadata": {
    "colab_type": "text",
    "id": "nO9T8scn5teZ"
   },
   "source": [
    "Sempre que eu me referir a 'x', o computador vai na sua memória, no endereço que separou para o 'x', e lê esse resultado.\n",
    "Mas, como o próprio nome diz, trata-se de um valor variável. Para mudar o valor que está armazenado nessa memória basta fazer uma nova operação de atribuição. Veja:"
   ]
  },
  {
   "cell_type": "code",
   "execution_count": 3,
   "metadata": {
    "colab": {},
    "colab_type": "code",
    "id": "klKEr1S15vGQ"
   },
   "outputs": [],
   "source": [
    "x = 2\n"
   ]
  },
  {
   "cell_type": "markdown",
   "metadata": {
    "colab": {},
    "colab_type": "code",
    "id": "fbSdVgvU5xaS"
   },
   "source": [
    "Agora a posição de memória referenciada pelo nome 'x' guarda o número 2. "
   ]
  },
  {
   "cell_type": "markdown",
   "metadata": {
    "colab_type": "text",
    "id": "Z3dFGC_yDamr"
   },
   "source": [
    "Em python, as variáveis do tipo numéricas podem ser tanto inteiras quanto fracionárias. Ao contrário de outras linguagens, não há uma diferenciação na declaração dela. Então, se quisermos que a variável 'x' passe a representar o preço do Kg de feijão, que custa em torno de R$ 11.20 (onze reais e vinte centavos), por exemplo."
   ]
  },
  {
   "cell_type": "code",
   "execution_count": 4,
   "metadata": {
    "colab": {},
    "colab_type": "code",
    "id": "6ZNnQwpiE-58"
   },
   "outputs": [],
   "source": [
    "x = 11.20\n"
   ]
  },
  {
   "cell_type": "markdown",
   "metadata": {},
   "source": [
    "Imprimindo o conteúdo da variável x, obtemos:"
   ]
  },
  {
   "cell_type": "code",
   "execution_count": 5,
   "metadata": {
    "colab": {
     "base_uri": "https://localhost:8080/",
     "height": 34
    },
    "colab_type": "code",
    "id": "TM6Hw3rOFEfG",
    "outputId": "d8189f86-1d7c-4a3f-be79-558f67e743fd"
   },
   "outputs": [
    {
     "data": {
      "text/plain": [
       "11.2"
      ]
     },
     "execution_count": 5,
     "metadata": {},
     "output_type": "execute_result"
    }
   ],
   "source": [
    "x"
   ]
  },
  {
   "cell_type": "markdown",
   "metadata": {
    "colab_type": "text",
    "id": "-oGYSaIQQ0G6"
   },
   "source": [
    "## Operando variáveis \n",
    "\n",
    "Você pode notar que para inicializar ou valores a uma variável numérica, o símbolo '=' foi utilizado. Ele é chamado de operador de atribuição. Existem outros tipos de operadores. Para variáveis numéricas destacam-se os operadores aritméticos. Veja alguns exemplos com os operadores soma (+), subtração(-), multiplicação (*) e divisão (/):\n"
   ]
  },
  {
   "cell_type": "code",
   "execution_count": 6,
   "metadata": {
    "colab": {
     "base_uri": "https://localhost:8080/",
     "height": 34
    },
    "colab_type": "code",
    "id": "b_WhKk5ORLHW",
    "outputId": "6e07895b-2632-48af-910d-a7c668d2c248"
   },
   "outputs": [
    {
     "data": {
      "text/plain": [
       "12.2"
      ]
     },
     "execution_count": 6,
     "metadata": {},
     "output_type": "execute_result"
    }
   ],
   "source": [
    "x+1"
   ]
  },
  {
   "cell_type": "code",
   "execution_count": 7,
   "metadata": {
    "colab": {
     "base_uri": "https://localhost:8080/",
     "height": 34
    },
    "colab_type": "code",
    "id": "48uVgPtRRM5M",
    "outputId": "3f351c54-a6d0-4d15-bb29-3565bcfe017c"
   },
   "outputs": [
    {
     "data": {
      "text/plain": [
       "-2.200000000000001"
      ]
     },
     "execution_count": 7,
     "metadata": {},
     "output_type": "execute_result"
    }
   ],
   "source": [
    "x-13.4"
   ]
  },
  {
   "cell_type": "code",
   "execution_count": 8,
   "metadata": {
    "colab": {
     "base_uri": "https://localhost:8080/",
     "height": 34
    },
    "colab_type": "code",
    "id": "jQMAONQyRZ0E",
    "outputId": "fc35415b-dfad-4709-8bf2-7a5429878484"
   },
   "outputs": [
    {
     "data": {
      "text/plain": [
       "35.168"
      ]
     },
     "execution_count": 8,
     "metadata": {},
     "output_type": "execute_result"
    }
   ],
   "source": [
    "x*3.14"
   ]
  },
  {
   "cell_type": "code",
   "execution_count": 9,
   "metadata": {
    "colab": {
     "base_uri": "https://localhost:8080/",
     "height": 34
    },
    "colab_type": "code",
    "id": "lu3hZj74RdDj",
    "outputId": "741f1c69-711c-409e-b9b1-a2c96c97e0fd"
   },
   "outputs": [
    {
     "data": {
      "text/plain": [
       "1.4"
      ]
     },
     "execution_count": 9,
     "metadata": {},
     "output_type": "execute_result"
    }
   ],
   "source": [
    "x/(8)"
   ]
  },
  {
   "cell_type": "markdown",
   "metadata": {
    "colab_type": "text",
    "id": "hsiEeLxCFTIE"
   },
   "source": [
    "## Outro tipo de variável: As strings\n",
    "Outro tipo de variável muito comum são as strings. Stings são cadeias de caracteres utilizadas para armazenar palavras. Em Python, para atribuir uma string a uma variável basta usar as áspas. Exemplo:\n"
   ]
  },
  {
   "cell_type": "code",
   "execution_count": 10,
   "metadata": {
    "colab": {},
    "colab_type": "code",
    "id": "Vz8mrRJwFsTC"
   },
   "outputs": [],
   "source": [
    "x = \"bola\"\n"
   ]
  },
  {
   "cell_type": "markdown",
   "metadata": {
    "colab": {},
    "colab_type": "code",
    "id": "IUAu11INGE3v"
   },
   "source": [
    "Como pode-se notar, não há nenhuma diferenciação da atribuição numérica a strings em python. 'x' agora é a string 'bola'! "
   ]
  },
  {
   "cell_type": "code",
   "execution_count": 11,
   "metadata": {
    "colab": {
     "base_uri": "https://localhost:8080/",
     "height": 34
    },
    "colab_type": "code",
    "id": "JzpLLESXGLYv",
    "outputId": "e966f867-5b2d-4da5-e86e-752332a8c962"
   },
   "outputs": [
    {
     "data": {
      "text/plain": [
       "'bola'"
      ]
     },
     "execution_count": 11,
     "metadata": {},
     "output_type": "execute_result"
    }
   ],
   "source": [
    "x"
   ]
  },
  {
   "cell_type": "markdown",
   "metadata": {
    "colab": {},
    "colab_type": "code",
    "id": "9_stDScCGMAg"
   },
   "source": [
    "A forma de leitura é a mesma: \"Computador, reserve um espaço de memória que eu quero chamar de 'x' e guarde lá dentro a palavra 'bola' \". A informação anterior guardada na memória, no caso o valor 11.2 é descartada."
   ]
  },
  {
   "cell_type": "markdown",
   "metadata": {
    "colab_type": "text",
    "id": "cIJO8oijHATv"
   },
   "source": [
    "## Variáveis Booleanas\n",
    "As variáveis booleanas também estão presentes em Python. Em geral, modela-se informações do mundo real que expressam antagonismo por uma variável binária no computador, por exemplo: cheio e vazio, verdadeiro e falso, 5V e 0V, pertence ou não pertence, contém e não contém, etc. Em python usa-se o clássico \"Verdadeiro e Falso\" mas em inglês, ou seja, True e False. Assim, é possível fazer as seguintes atribuições: "
   ]
  },
  {
   "cell_type": "code",
   "execution_count": 12,
   "metadata": {
    "colab": {},
    "colab_type": "code",
    "id": "2uXgFaB_H4vw"
   },
   "outputs": [],
   "source": [
    "x = True"
   ]
  },
  {
   "cell_type": "markdown",
   "metadata": {
    "colab": {},
    "colab_type": "code",
    "id": "eHzqVg68H6nX"
   },
   "source": [
    "ou então\n"
   ]
  },
  {
   "cell_type": "code",
   "execution_count": 13,
   "metadata": {
    "colab": {},
    "colab_type": "code",
    "id": "ao0DO-CFH8zl"
   },
   "outputs": [],
   "source": [
    "y = False"
   ]
  },
  {
   "cell_type": "markdown",
   "metadata": {
    "colab_type": "text",
    "id": "a13qWw_1IK5A"
   },
   "source": [
    "### Operando variáveis booleanas\n",
    "\n",
    "As variáveis booleanas podem ser submetidas a operadores lógicos. Veja:"
   ]
  },
  {
   "cell_type": "code",
   "execution_count": 14,
   "metadata": {
    "colab": {},
    "colab_type": "code",
    "id": "l-CbvBTrIQGC"
   },
   "outputs": [
    {
     "data": {
      "text/plain": [
       "False"
      ]
     },
     "execution_count": 14,
     "metadata": {},
     "output_type": "execute_result"
    }
   ],
   "source": [
    "x and y"
   ]
  },
  {
   "cell_type": "code",
   "execution_count": 15,
   "metadata": {},
   "outputs": [
    {
     "data": {
      "text/plain": [
       "True"
      ]
     },
     "execution_count": 15,
     "metadata": {},
     "output_type": "execute_result"
    }
   ],
   "source": [
    "x or y"
   ]
  },
  {
   "cell_type": "code",
   "execution_count": 16,
   "metadata": {},
   "outputs": [
    {
     "data": {
      "text/plain": [
       "False"
      ]
     },
     "execution_count": 16,
     "metadata": {},
     "output_type": "execute_result"
    }
   ],
   "source": [
    "not x"
   ]
  },
  {
   "cell_type": "markdown",
   "metadata": {},
   "source": [
    "## Fazendo perguntas\n",
    "\n",
    "É possível usar operadores lógicos em variável numéricas para obter como resultado variáveis booleanas. Para isso são usados operados tais como > (maior) , < (menor), maior ou igual (>=), menor igual (<=), igual (==) e diferente (!=). Veja alguns exemplos:"
   ]
  },
  {
   "cell_type": "code",
   "execution_count": 17,
   "metadata": {},
   "outputs": [
    {
     "data": {
      "text/plain": [
       "True"
      ]
     },
     "execution_count": 17,
     "metadata": {},
     "output_type": "execute_result"
    }
   ],
   "source": [
    "3<4"
   ]
  },
  {
   "cell_type": "code",
   "execution_count": 18,
   "metadata": {},
   "outputs": [
    {
     "data": {
      "text/plain": [
       "False"
      ]
     },
     "execution_count": 18,
     "metadata": {},
     "output_type": "execute_result"
    }
   ],
   "source": [
    "4<3"
   ]
  },
  {
   "cell_type": "code",
   "execution_count": 19,
   "metadata": {},
   "outputs": [
    {
     "data": {
      "text/plain": [
       "True"
      ]
     },
     "execution_count": 19,
     "metadata": {},
     "output_type": "execute_result"
    }
   ],
   "source": [
    "4<=4"
   ]
  },
  {
   "cell_type": "code",
   "execution_count": 20,
   "metadata": {},
   "outputs": [
    {
     "data": {
      "text/plain": [
       "True"
      ]
     },
     "execution_count": 20,
     "metadata": {},
     "output_type": "execute_result"
    }
   ],
   "source": [
    "2 == 2"
   ]
  },
  {
   "cell_type": "code",
   "execution_count": 21,
   "metadata": {},
   "outputs": [
    {
     "data": {
      "text/plain": [
       "False"
      ]
     },
     "execution_count": 21,
     "metadata": {},
     "output_type": "execute_result"
    }
   ],
   "source": [
    "3 != 3"
   ]
  },
  {
   "cell_type": "code",
   "execution_count": 22,
   "metadata": {},
   "outputs": [
    {
     "data": {
      "text/plain": [
       "True"
      ]
     },
     "execution_count": 22,
     "metadata": {},
     "output_type": "execute_result"
    }
   ],
   "source": [
    "4> 3.9999999999"
   ]
  },
  {
   "cell_type": "markdown",
   "metadata": {},
   "source": [
    "Faça alguns testes mudando os valores nas perguntas acima, observando sempre os resultados."
   ]
  },
  {
   "cell_type": "code",
   "execution_count": null,
   "metadata": {},
   "outputs": [],
   "source": []
  },
  {
   "cell_type": "code",
   "execution_count": null,
   "metadata": {},
   "outputs": [],
   "source": []
  }
 ],
 "metadata": {
  "colab": {
   "collapsed_sections": [],
   "name": "Untitled0.ipynb",
   "provenance": []
  },
  "kernelspec": {
   "display_name": "Python 3",
   "language": "python",
   "name": "python3"
  },
  "language_info": {
   "codemirror_mode": {
    "name": "ipython",
    "version": 3
   },
   "file_extension": ".py",
   "mimetype": "text/x-python",
   "name": "python",
   "nbconvert_exporter": "python",
   "pygments_lexer": "ipython3",
   "version": "3.6.5"
  }
 },
 "nbformat": 4,
 "nbformat_minor": 1
}
