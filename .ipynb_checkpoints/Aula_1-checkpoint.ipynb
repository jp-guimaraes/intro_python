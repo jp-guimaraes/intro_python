{
 "cells": [
  {
   "cell_type": "markdown",
   "metadata": {
    "colab_type": "text",
    "id": "6Tfl-pei4DKg"
   },
   "source": [
    "A primeira coisa que temos que entender são as variáveis. Variáveis são entidades que o computador usa para armazenar informação. Elas tem três atributos principais: Um nome, um tipo e um valor. Por exemplo:\n",
    "\n"
   ]
  },
  {
   "cell_type": "code",
   "execution_count": null,
   "metadata": {},
   "outputs": [],
   "source": [
    "# Aula 1: Introdução a variáveis usando python"
   ]
  },
  {
   "cell_type": "code",
   "execution_count": 0,
   "metadata": {
    "colab": {},
    "colab_type": "code",
    "id": "ZOmGSTdb4YuZ"
   },
   "outputs": [],
   "source": [
    "x = 2;\n"
   ]
  },
  {
   "cell_type": "markdown",
   "metadata": {
    "colab_type": "text",
    "id": "S2oEpGQZ4Az2"
   },
   "source": [
    "Quando damos essa instrução ao computador estamos indiretamente dizendo: \"Computador, reserve um espaço na memória que eu quero chamar de 'x'. Vou usar ele para guardar valores numéricos. A princípio ele vai guardar o número 2.\""
   ]
  },
  {
   "cell_type": "code",
   "execution_count": 4,
   "metadata": {
    "colab": {
     "base_uri": "https://localhost:8080/",
     "height": 34
    },
    "colab_type": "code",
    "id": "8YcUs8SH4_2f",
    "outputId": "99183100-6931-442b-a10f-21cb64e5f9c9"
   },
   "outputs": [
    {
     "data": {
      "text/plain": [
       "2"
      ]
     },
     "execution_count": 4,
     "metadata": {
      "tags": []
     },
     "output_type": "execute_result"
    }
   ],
   "source": [
    "x"
   ]
  },
  {
   "cell_type": "markdown",
   "metadata": {
    "colab_type": "text",
    "id": "nO9T8scn5teZ"
   },
   "source": [
    "Sempre que eu me referir a x, o computador vai na sua memória, no endereço que separou para o x, e lê esse resultado.\n",
    "Mas, como o próprio nome diz, trata-se de um valor variável. Para mudar o valor que está armazenado nessa memória basta fazer uma nova operação de atribuição. Veja:"
   ]
  },
  {
   "cell_type": "code",
   "execution_count": 0,
   "metadata": {
    "colab": {},
    "colab_type": "code",
    "id": "klKEr1S15vGQ"
   },
   "outputs": [],
   "source": [
    "x = 47\n"
   ]
  },
  {
   "cell_type": "markdown",
   "metadata": {
    "colab": {},
    "colab_type": "code",
    "id": "fbSdVgvU5xaS"
   },
   "source": [
    "Agora a posição de memória referenciada pelo nome 'x' guarda o número 47. "
   ]
  },
  {
   "cell_type": "markdown",
   "metadata": {
    "colab_type": "text",
    "id": "Z3dFGC_yDamr"
   },
   "source": [
    "Em python, as variáveis do tipo numéricas podem ser tanto inteiras quanto fracionárias. Ao contrário de outras linguagens, não há uma diferenciação na declaração dela. Então, se quisermos que a variável 'x' passe a representar o preço do Kg de feijão, que custa em torno de R$ 11.20 (onze reais e vinte centavos), por exemplo."
   ]
  },
  {
   "cell_type": "code",
   "execution_count": 0,
   "metadata": {
    "colab": {},
    "colab_type": "code",
    "id": "6ZNnQwpiE-58"
   },
   "outputs": [],
   "source": [
    "x = 11.20\n"
   ]
  },
  {
   "cell_type": "code",
   "execution_count": 4,
   "metadata": {
    "colab": {
     "base_uri": "https://localhost:8080/",
     "height": 34
    },
    "colab_type": "code",
    "id": "TM6Hw3rOFEfG",
    "outputId": "d8189f86-1d7c-4a3f-be79-558f67e743fd"
   },
   "outputs": [
    {
     "data": {
      "text/plain": [
       "11.2"
      ]
     },
     "execution_count": 4,
     "metadata": {
      "tags": []
     },
     "output_type": "execute_result"
    }
   ],
   "source": [
    "x"
   ]
  },
  {
   "cell_type": "markdown",
   "metadata": {
    "colab_type": "text",
    "id": "-oGYSaIQQ0G6"
   },
   "source": [
    "Você pode notar que para inicializar ou atribuir valores a uma variável numérica, o símbolo '=' foi utilizado. Ele é chamado de operador de atribuição. Existem outros tipos de operadores. Para variáveis numéricas destacam-se os operadores aritméticos. Veja alguns exemplos com os operadores soma (+), subtração(-), multiplicação (*) e divisão (/):\n"
   ]
  },
  {
   "cell_type": "code",
   "execution_count": 16,
   "metadata": {
    "colab": {
     "base_uri": "https://localhost:8080/",
     "height": 34
    },
    "colab_type": "code",
    "id": "b_WhKk5ORLHW",
    "outputId": "6e07895b-2632-48af-910d-a7c668d2c248"
   },
   "outputs": [
    {
     "data": {
      "text/plain": [
       "48"
      ]
     },
     "execution_count": 16,
     "metadata": {
      "tags": []
     },
     "output_type": "execute_result"
    }
   ],
   "source": [
    "x+1"
   ]
  },
  {
   "cell_type": "code",
   "execution_count": 17,
   "metadata": {
    "colab": {
     "base_uri": "https://localhost:8080/",
     "height": 34
    },
    "colab_type": "code",
    "id": "48uVgPtRRM5M",
    "outputId": "3f351c54-a6d0-4d15-bb29-3565bcfe017c"
   },
   "outputs": [
    {
     "data": {
      "text/plain": [
       "33.6"
      ]
     },
     "execution_count": 17,
     "metadata": {
      "tags": []
     },
     "output_type": "execute_result"
    }
   ],
   "source": [
    "x-13.4"
   ]
  },
  {
   "cell_type": "code",
   "execution_count": 18,
   "metadata": {
    "colab": {
     "base_uri": "https://localhost:8080/",
     "height": 34
    },
    "colab_type": "code",
    "id": "jQMAONQyRZ0E",
    "outputId": "fc35415b-dfad-4709-8bf2-7a5429878484"
   },
   "outputs": [
    {
     "data": {
      "text/plain": [
       "147.58"
      ]
     },
     "execution_count": 18,
     "metadata": {
      "tags": []
     },
     "output_type": "execute_result"
    }
   ],
   "source": [
    "x*3.14"
   ]
  },
  {
   "cell_type": "code",
   "execution_count": 19,
   "metadata": {
    "colab": {
     "base_uri": "https://localhost:8080/",
     "height": 34
    },
    "colab_type": "code",
    "id": "lu3hZj74RdDj",
    "outputId": "741f1c69-711c-409e-b9b1-a2c96c97e0fd"
   },
   "outputs": [
    {
     "data": {
      "text/plain": [
       "5.875"
      ]
     },
     "execution_count": 19,
     "metadata": {
      "tags": []
     },
     "output_type": "execute_result"
    }
   ],
   "source": [
    "x/(8)"
   ]
  },
  {
   "cell_type": "markdown",
   "metadata": {
    "colab_type": "text",
    "id": "hsiEeLxCFTIE"
   },
   "source": [
    "Outro tipo de variável muito comum são as strings. Stings são cadeias de caracteres utilizadas para armazenar palavras. Em Python, para atribuir uma string a uma variável basta usar as áspas. Exemplo:\n"
   ]
  },
  {
   "cell_type": "code",
   "execution_count": 0,
   "metadata": {
    "colab": {},
    "colab_type": "code",
    "id": "Vz8mrRJwFsTC"
   },
   "outputs": [],
   "source": [
    "x = \"bola\"\n"
   ]
  },
  {
   "cell_type": "code",
   "execution_count": 0,
   "metadata": {
    "colab": {},
    "colab_type": "code",
    "id": "IUAu11INGE3v"
   },
   "outputs": [],
   "source": [
    "Como pode-se notar, não há nenhuma diferenciação da atribuição numérica a strings em python. 'x' agora é a string 'bola'! "
   ]
  },
  {
   "cell_type": "code",
   "execution_count": 7,
   "metadata": {
    "colab": {
     "base_uri": "https://localhost:8080/",
     "height": 34
    },
    "colab_type": "code",
    "id": "JzpLLESXGLYv",
    "outputId": "e966f867-5b2d-4da5-e86e-752332a8c962"
   },
   "outputs": [
    {
     "data": {
      "text/plain": [
       "'bola'"
      ]
     },
     "execution_count": 7,
     "metadata": {
      "tags": []
     },
     "output_type": "execute_result"
    }
   ],
   "source": [
    "x"
   ]
  },
  {
   "cell_type": "code",
   "execution_count": 0,
   "metadata": {
    "colab": {},
    "colab_type": "code",
    "id": "9_stDScCGMAg"
   },
   "outputs": [],
   "source": [
    "A forma de leitura é a mesma: \"Computador, reserve um espaço de memória que eu quero chamar de 'x' e guarde lá dentro a palavra 'bola' \". A informação anterior guardada na memória, no caso o valor 11.2 é descartada."
   ]
  },
  {
   "cell_type": "markdown",
   "metadata": {
    "colab_type": "text",
    "id": "cIJO8oijHATv"
   },
   "source": [
    "As variáveis booleanas também estão presentes em Python. Em geral, modela-se informações do mundo real que expressam antagonismo por uma variável binária no computador, por exemplo: cheio e vazio, verdadeiro e falso, 5V e 0V, pertence ou não pertence, contém e não contém, etc. Em python usa-se o clássico \"Verdadeiro e Falso\" mas em inglês, ou seja, True e False. Assim, é possível fazer as seguintes atribuições: "
   ]
  },
  {
   "cell_type": "code",
   "execution_count": 0,
   "metadata": {
    "colab": {},
    "colab_type": "code",
    "id": "2uXgFaB_H4vw"
   },
   "outputs": [],
   "source": [
    "x = True"
   ]
  },
  {
   "cell_type": "code",
   "execution_count": 0,
   "metadata": {
    "colab": {},
    "colab_type": "code",
    "id": "eHzqVg68H6nX"
   },
   "outputs": [],
   "source": [
    "ou então\n"
   ]
  },
  {
   "cell_type": "code",
   "execution_count": 0,
   "metadata": {
    "colab": {},
    "colab_type": "code",
    "id": "ao0DO-CFH8zl"
   },
   "outputs": [],
   "source": [
    "y = False"
   ]
  },
  {
   "cell_type": "markdown",
   "metadata": {
    "colab_type": "text",
    "id": "a13qWw_1IK5A"
   },
   "source": [
    "Operações lógicas podem ser feitas normalmente sob as variávéis booleanas:"
   ]
  },
  {
   "cell_type": "code",
   "execution_count": 0,
   "metadata": {
    "colab": {},
    "colab_type": "code",
    "id": "l-CbvBTrIQGC"
   },
   "outputs": [],
   "source": []
  }
 ],
 "metadata": {
  "colab": {
   "collapsed_sections": [],
   "name": "Untitled0.ipynb",
   "provenance": []
  },
  "kernelspec": {
   "display_name": "Python 3",
   "language": "python",
   "name": "python3"
  },
  "language_info": {
   "codemirror_mode": {
    "name": "ipython",
    "version": 3
   },
   "file_extension": ".py",
   "mimetype": "text/x-python",
   "name": "python",
   "nbconvert_exporter": "python",
   "pygments_lexer": "ipython3",
   "version": "3.6.5"
  }
 },
 "nbformat": 4,
 "nbformat_minor": 1
}
